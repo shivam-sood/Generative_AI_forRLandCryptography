{
 "cells": [
  {
   "cell_type": "code",
   "execution_count": 22,
   "metadata": {},
   "outputs": [],
   "source": [
    "# Create a LSTM model to predict the next bit of a LFSR\n",
    "import numpy as np\n",
    "import tensorflow as tf\n",
    "\n",
    "\n",
    "def create_data(ln=500):\n",
    "    X = []\n",
    "    Y = []\n",
    "    for i in range(1000):\n",
    "        initial_key = np.binary_repr(i, width=10)\n",
    "        initial_key = np.array([int(x) for x in initial_key])\n",
    "        key1 = initial_key[:5]\n",
    "        key2 = initial_key[5:]\n",
    "        lst = []\n",
    "        for j in range(ln + 1):\n",
    "            nxt1 = key1[0] ^ key1[1]\n",
    "            nxt2 = key2[0] ^ key2[2]\n",
    "            nxt = nxt1 ^ nxt2\n",
    "            lst.append(nxt)\n",
    "            key1 = np.roll(key1, -1)\n",
    "            key2 = np.roll(key2, -1)\n",
    "            key1[-1] = nxt1\n",
    "            key2[-1] = nxt2\n",
    "        lst = np.array(lst)\n",
    "        X.append(lst[:-1])\n",
    "        Y.append(lst[-1])\n",
    "    return np.array(X), np.array(Y)\n",
    "\n",
    "\n",
    "def validation_data(ln=500):\n",
    "    X = []\n",
    "    Y = []\n",
    "    for i in range(1024):\n",
    "        initial_key = np.binary_repr(i, width=10)\n",
    "        initial_key = np.array([int(x) for x in initial_key])\n",
    "        key1 = initial_key[:5]\n",
    "        key2 = initial_key[5:]\n",
    "        lst = []\n",
    "        for j in range(ln + 1):\n",
    "            nxt1 = key1[0] ^ key1[1]\n",
    "            nxt2 = key2[0] ^ key2[2]\n",
    "            nxt = nxt1 ^ nxt2\n",
    "            lst.append(nxt)\n",
    "            key1 = np.roll(key1, -1)\n",
    "            key2 = np.roll(key2, -1)\n",
    "            key1[-1] = nxt1\n",
    "            key2[-1] = nxt2\n",
    "        lst = np.array(lst)\n",
    "        X.append(lst[:-1])\n",
    "        Y.append(lst[-1])\n",
    "    return np.array(X), np.array(Y)\n",
    "\n",
    "ln = 500\n",
    "\n",
    "train_X, train_Y = create_data(ln)\n",
    "val_X, val_Y = validation_data(ln)"
   ]
  },
  {
   "cell_type": "code",
   "execution_count": 23,
   "metadata": {},
   "outputs": [
    {
     "name": "stdout",
     "output_type": "stream",
     "text": [
      "Model: \"sequential_2\"\n",
      "_________________________________________________________________\n",
      " Layer (type)                Output Shape              Param #   \n",
      "=================================================================\n",
      " dense_6 (Dense)             (None, 100)               50100     \n",
      "                                                                 \n",
      " dense_7 (Dense)             (None, 10)                1010      \n",
      "                                                                 \n",
      " dense_8 (Dense)             (None, 1)                 11        \n",
      "                                                                 \n",
      "=================================================================\n",
      "Total params: 51,121\n",
      "Trainable params: 51,121\n",
      "Non-trainable params: 0\n",
      "_________________________________________________________________\n"
     ]
    }
   ],
   "source": [
    "model = tf.keras.Sequential(\n",
    "    [\n",
    "        tf.keras.layers.Dense(100, input_shape=(ln,), activation=\"relu\"),\n",
    "        tf.keras.layers.Dense(10, activation=\"relu\"),\n",
    "        tf.keras.layers.Dense(1, activation=\"sigmoid\"),\n",
    "    ]\n",
    ")\n",
    "model.compile(optimizer=\"adam\", loss=\"binary_crossentropy\", metrics=[\"accuracy\"])\n",
    "model.summary()"
   ]
  },
  {
   "cell_type": "code",
   "execution_count": 27,
   "metadata": {},
   "outputs": [
    {
     "name": "stdout",
     "output_type": "stream",
     "text": [
      "Epoch 1/10\n",
      "32/32 [==============================] - 0s 9ms/step - loss: 0.0081 - accuracy: 1.0000 - val_loss: 0.0393 - val_accuracy: 0.9863\n",
      "Epoch 2/10\n",
      "32/32 [==============================] - 0s 8ms/step - loss: 0.0070 - accuracy: 1.0000 - val_loss: 0.0390 - val_accuracy: 0.9863\n",
      "Epoch 3/10\n",
      "32/32 [==============================] - 0s 8ms/step - loss: 0.0062 - accuracy: 1.0000 - val_loss: 0.0399 - val_accuracy: 0.9863\n",
      "Epoch 4/10\n",
      "32/32 [==============================] - 0s 8ms/step - loss: 0.0056 - accuracy: 1.0000 - val_loss: 0.0389 - val_accuracy: 0.9863\n",
      "Epoch 5/10\n",
      "32/32 [==============================] - 0s 8ms/step - loss: 0.0051 - accuracy: 1.0000 - val_loss: 0.0391 - val_accuracy: 0.9863\n",
      "Epoch 6/10\n",
      "32/32 [==============================] - 0s 8ms/step - loss: 0.0046 - accuracy: 1.0000 - val_loss: 0.0392 - val_accuracy: 0.9863\n",
      "Epoch 7/10\n",
      "32/32 [==============================] - 0s 8ms/step - loss: 0.0043 - accuracy: 1.0000 - val_loss: 0.0386 - val_accuracy: 0.9863\n",
      "Epoch 8/10\n",
      "32/32 [==============================] - 0s 8ms/step - loss: 0.0040 - accuracy: 1.0000 - val_loss: 0.0391 - val_accuracy: 0.9863\n",
      "Epoch 9/10\n",
      "32/32 [==============================] - 0s 8ms/step - loss: 0.0037 - accuracy: 1.0000 - val_loss: 0.0391 - val_accuracy: 0.9863\n",
      "Epoch 10/10\n",
      "32/32 [==============================] - 0s 8ms/step - loss: 0.0035 - accuracy: 1.0000 - val_loss: 0.0395 - val_accuracy: 0.9863\n"
     ]
    },
    {
     "data": {
      "text/plain": [
       "<keras.callbacks.History at 0x14d368e264d0>"
      ]
     },
     "execution_count": 27,
     "metadata": {},
     "output_type": "execute_result"
    }
   ],
   "source": [
    "model.fit(train_X, train_Y, epochs=10, validation_data=(val_X, val_Y))"
   ]
  },
  {
   "cell_type": "code",
   "execution_count": 28,
   "metadata": {},
   "outputs": [
    {
     "name": "stdout",
     "output_type": "stream",
     "text": [
      "1/1 [==============================] - 0s 47ms/step\n"
     ]
    }
   ],
   "source": [
    "# # lstm.predict(np.array([1, 1, 0, 0, 0]).reshape(1, 5, 1))\n",
    "# for x, y in zip(val_X, val_Y):\n",
    "#     if np.rint(lstm.predict(x.reshape(1, 29, 1))) != y:\n",
    "#         print(f\"Failed for {x} with {y} got {lstm.predict(x.reshape(1, 29, 1))}\")\n",
    "def validation_data_new(ln=500):\n",
    "    X = []\n",
    "    Y = []\n",
    "    for i in range(1000,1024):\n",
    "        initial_key = np.binary_repr(i, width=10)\n",
    "        initial_key = np.array([int(x) for x in initial_key])\n",
    "        key1 = initial_key[:5]\n",
    "        key2 = initial_key[5:]\n",
    "        lst = []\n",
    "        for j in range(ln + 1):\n",
    "            nxt1 = key1[0] ^ key1[1]\n",
    "            nxt2 = key2[0] ^ key2[2]\n",
    "            nxt = nxt1 ^ nxt2\n",
    "            lst.append(nxt)\n",
    "            key1 = np.roll(key1, -1)\n",
    "            key2 = np.roll(key2, -1)\n",
    "            key1[-1] = nxt1\n",
    "            key2[-1] = nxt2\n",
    "        lst = np.array(lst)\n",
    "        X.append(lst[:-1])\n",
    "        Y.append(lst[-1])\n",
    "    return np.array(X), np.array(Y)\n",
    "x_test, y_test = validation_data_new()\n",
    "z = (zip(model.predict(x_test), y_test))"
   ]
  },
  {
   "cell_type": "code",
   "execution_count": null,
   "metadata": {},
   "outputs": [
    {
     "name": "stdout",
     "output_type": "stream",
     "text": [
      "32\n"
     ]
    }
   ],
   "source": [
    "mset = set()\n",
    "for x in X1:\n",
    "    mset.add(tuple(x.flatten()))\n",
    "print(ln(mset))"
   ]
  },
  {
   "cell_type": "code",
   "execution_count": null,
   "metadata": {},
   "outputs": [
    {
     "name": "stdout",
     "output_type": "stream",
     "text": [
      "21\n"
     ]
    }
   ],
   "source": [
    "mset = set()\n",
    "for x in X2:\n",
    "    mset.add(tuple(x.flatten()))\n",
    "print(ln(mset))"
   ]
  },
  {
   "cell_type": "code",
   "execution_count": 29,
   "metadata": {},
   "outputs": [
    {
     "name": "stdout",
     "output_type": "stream",
     "text": [
      "[0.91969067] 0\n",
      "[0.19179514] 1\n",
      "[0.9238772] 1\n",
      "[0.9831427] 0\n",
      "[0.42026407] 0\n",
      "[0.11395585] 1\n",
      "[0.01731793] 1\n",
      "[0.17379786] 0\n",
      "[0.01183055] 1\n",
      "[0.37393475] 0\n",
      "[0.10085592] 0\n",
      "[0.9100638] 1\n",
      "[0.22828877] 1\n",
      "[0.9938892] 0\n",
      "[0.05872892] 0\n",
      "[0.3670397] 1\n",
      "[0.7874992] 0\n",
      "[0.8308403] 1\n",
      "[0.6009082] 1\n",
      "[0.05907947] 0\n",
      "[0.72877955] 0\n",
      "[0.10583317] 1\n",
      "[0.15750885] 1\n",
      "[0.7695388] 0\n"
     ]
    }
   ],
   "source": [
    "for x,y in z:\n",
    "    print(x,y)"
   ]
  },
  {
   "cell_type": "code",
   "execution_count": null,
   "metadata": {},
   "outputs": [],
   "source": []
  }
 ],
 "metadata": {
  "kernelspec": {
   "display_name": "Python 3 (ipykernel)",
   "language": "python",
   "name": "python3"
  },
  "language_info": {
   "codemirror_mode": {
    "name": "ipython",
    "version": 3
   },
   "file_extension": ".py",
   "mimetype": "text/x-python",
   "name": "python",
   "nbconvert_exporter": "python",
   "pygments_lexer": "ipython3",
   "version": "3.10.2"
  }
 },
 "nbformat": 4,
 "nbformat_minor": 4
}
