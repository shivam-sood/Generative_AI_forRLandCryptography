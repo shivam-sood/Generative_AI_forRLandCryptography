{
 "cells": [
  {
   "cell_type": "code",
   "execution_count": null,
   "metadata": {},
   "outputs": [],
   "source": []
  },
  {
   "cell_type": "code",
   "execution_count": null,
   "metadata": {},
   "outputs": [],
   "source": []
  },
  {
   "cell_type": "code",
   "execution_count": null,
   "metadata": {},
   "outputs": [],
   "source": []
  },
  {
   "cell_type": "code",
   "execution_count": null,
   "metadata": {},
   "outputs": [],
   "source": []
  },
  {
   "cell_type": "code",
   "execution_count": 30,
   "metadata": {},
   "outputs": [],
   "source": [
    "# new_model = tf.keras.models.load_model('lfsr_model.h5')\n",
    "# new_model.save_weights(\"mc\")\n",
    "# # model.save(\"lfsr_model.h5\")"
   ]
  },
  {
   "cell_type": "code",
   "execution_count": null,
   "metadata": {},
   "outputs": [],
   "source": []
  },
  {
   "cell_type": "code",
   "execution_count": null,
   "metadata": {},
   "outputs": [],
   "source": []
  },
  {
   "cell_type": "code",
   "execution_count": null,
   "metadata": {},
   "outputs": [],
   "source": []
  },
  {
   "cell_type": "code",
   "execution_count": null,
   "metadata": {},
   "outputs": [],
   "source": []
  },
  {
   "cell_type": "code",
   "execution_count": null,
   "metadata": {},
   "outputs": [],
   "source": []
  },
  {
   "cell_type": "code",
   "execution_count": null,
   "metadata": {},
   "outputs": [],
   "source": []
  },
  {
   "cell_type": "code",
   "execution_count": null,
   "metadata": {},
   "outputs": [],
   "source": []
  },
  {
   "cell_type": "code",
   "execution_count": null,
   "metadata": {},
   "outputs": [],
   "source": []
  },
  {
   "cell_type": "code",
   "execution_count": 18,
   "metadata": {},
   "outputs": [
    {
     "name": "stdout",
     "output_type": "stream",
     "text": [
      "[[1 0 0 0 0 0 0 0 0 0]\n",
      " [0 1 0 0 0 0 0 0 0 0]\n",
      " [0 0 1 0 0 0 0 0 0 0]\n",
      " [0 0 0 1 0 0 0 0 0 0]\n",
      " [0 0 0 0 1 0 0 0 0 0]]\n",
      "[[0 0 0 0 0 1 0 0 0 0]\n",
      " [0 0 0 0 0 0 1 0 0 0]\n",
      " [0 0 0 0 0 0 0 1 0 0]\n",
      " [0 0 0 0 0 0 0 0 1 0]\n",
      " [0 0 0 0 0 0 0 0 0 1]]\n",
      "[[0 1 0 0 0 0 0 0 0 0]\n",
      " [0 0 1 0 0 0 0 0 0 0]\n",
      " [0 0 0 1 0 0 0 0 0 0]\n",
      " [0 0 0 0 1 0 0 0 0 0]\n",
      " [1 0 0 0 0 0 0 0 0 0]]\n"
     ]
    }
   ],
   "source": [
    "import numpy as np\n",
    "\n",
    "key = np.eye(10, 10).astype(int)\n",
    "key1 = key[:5]\n",
    "key2 = key[5:]\n",
    "print(key1)\n",
    "print(key2)\n",
    "print(np.roll(key1, -1, axis=0))"
   ]
  },
  {
   "cell_type": "code",
   "execution_count": 29,
   "metadata": {},
   "outputs": [
    {
     "name": "stdout",
     "output_type": "stream",
     "text": [
      "[0 1 1 1 1 1 1 0 1 1]\n",
      "[1 1 1 1 1 1 1 0 0 1]\n",
      "[1 0 1 1 1 1 1 0 0 0]\n",
      "[1 0 0 1 1 0 1 1 0 0]\n",
      "[1 0 0 0 1 0 0 1 1 0]\n",
      "[1 0 0 0 0 0 0 0 1 1]\n",
      "[0 1 0 0 0 1 0 1 0 1]\n",
      "[0 0 1 0 0 1 1 1 1 0]\n",
      "[0 0 0 1 0 0 1 1 1 1]\n",
      "[0 0 0 0 1 1 0 0 1 1]\n",
      "[1 1 0 0 0 1 1 1 0 1]\n",
      "[0 1 1 0 0 1 1 0 1 0]\n",
      "[0 0 1 1 0 0 1 1 0 1]\n",
      "[0 0 0 1 1 1 0 0 1 0]\n",
      "[1 1 0 0 1 0 1 0 0 1]\n",
      "[1 0 1 0 0 1 0 0 0 0]\n",
      "[0 1 0 1 0 0 1 0 0 0]\n",
      "[0 0 1 0 1 0 0 1 0 0]\n",
      "[1 1 0 1 0 0 0 0 1 0]\n",
      "[0 1 1 0 1 0 0 0 0 1]\n"
     ]
    }
   ],
   "source": [
    "x = []\n",
    "for i in range(20):\n",
    "    # print(key1[0].shape, key1[1].shape)\n",
    "    nxt1 = key1[0] ^ key1[1]\n",
    "    nxt2 = key2[0] ^ key2[2]\n",
    "    key1 = np.roll(key1, -1, axis=0)\n",
    "    key2 = np.roll(key2, -1, axis=0)\n",
    "    key1[-1] = nxt1\n",
    "    key2[-1] = nxt2\n",
    "    nxt = nxt1 ^ nxt2\n",
    "    print(nxt)\n",
    "    x.append(nxt)"
   ]
  },
  {
   "cell_type": "code",
   "execution_count": 27,
   "metadata": {},
   "outputs": [
    {
     "name": "stdout",
     "output_type": "stream",
     "text": [
      "1111001100\n"
     ]
    }
   ],
   "source": [
    "for i in range(1024):\n",
    "    ind = np.binary_repr(i, width=10)\n",
    "    # print(ind)\n",
    "    total = np.zeros(10, dtype=int)\n",
    "    for j in range(10):\n",
    "        if ind[j] == \"1\":\n",
    "            total = total ^ x[j]\n",
    "    if np.array_equal(total, x[10]):\n",
    "        # for j in range(10):\n",
    "        #     if ind[j] == \"1\":\n",
    "        #         print(j, end=\" \")\n",
    "        print(ind)"
   ]
  },
  {
   "cell_type": "code",
   "execution_count": 30,
   "metadata": {},
   "outputs": [
    {
     "name": "stdout",
     "output_type": "stream",
     "text": [
      "[1 1 0 0 0 1 1 1 0 1] [1 1 0 0 0 1 1 1 0 1]\n"
     ]
    }
   ],
   "source": [
    "print(x[0] ^ x[1] ^ x[2] ^ x[3] ^ x[6] ^ x[7], x[10])"
   ]
  },
  {
   "cell_type": "code",
   "execution_count": 31,
   "metadata": {},
   "outputs": [
    {
     "name": "stdout",
     "output_type": "stream",
     "text": [
      "[0 0 0 1 1 1 0 0 1 0] [0 0 0 1 1 1 0 0 1 0]\n"
     ]
    }
   ],
   "source": [
    "print(x[0 + 3] ^ x[1 + 3] ^ x[2 + 3] ^ x[3 + 3] ^ x[6 + 3] ^ x[7 + 3], x[10 + 3])"
   ]
  },
  {
   "cell_type": "code",
   "execution_count": 1,
   "metadata": {},
   "outputs": [
    {
     "name": "stdout",
     "output_type": "stream",
     "text": [
      "[[1 0 0 0 0 0 0 0 0 0 0 0 0 0 0 0 0 0 0 0 0]\n",
      " [0 1 0 0 0 0 0 0 0 0 0 0 0 0 0 0 0 0 0 0 0]\n",
      " [0 0 1 0 0 0 0 0 0 0 0 0 0 0 0 0 0 0 0 0 0]\n",
      " [0 0 0 1 0 0 0 0 0 0 0 0 0 0 0 0 0 0 0 0 0]\n",
      " [0 0 0 0 1 0 0 0 0 0 0 0 0 0 0 0 0 0 0 0 0]\n",
      " [0 0 0 0 0 1 0 0 0 0 0 0 0 0 0 0 0 0 0 0 0]\n",
      " [0 0 0 0 0 0 1 0 0 0 0 0 0 0 0 0 0 0 0 0 0]\n",
      " [0 0 0 0 0 0 0 1 0 0 0 0 0 0 0 0 0 0 0 0 0]\n",
      " [0 0 0 0 0 0 0 0 1 0 0 0 0 0 0 0 0 0 0 0 0]\n",
      " [0 0 0 0 0 0 0 0 0 1 0 0 0 0 0 0 0 0 0 0 0]]\n",
      "[[0 0 0 0 0 0 0 0 0 0 1 0 0 0 0 0 0 0 0 0 0]\n",
      " [0 0 0 0 0 0 0 0 0 0 0 1 0 0 0 0 0 0 0 0 0]\n",
      " [0 0 0 0 0 0 0 0 0 0 0 0 1 0 0 0 0 0 0 0 0]\n",
      " [0 0 0 0 0 0 0 0 0 0 0 0 0 1 0 0 0 0 0 0 0]\n",
      " [0 0 0 0 0 0 0 0 0 0 0 0 0 0 1 0 0 0 0 0 0]\n",
      " [0 0 0 0 0 0 0 0 0 0 0 0 0 0 0 1 0 0 0 0 0]\n",
      " [0 0 0 0 0 0 0 0 0 0 0 0 0 0 0 0 1 0 0 0 0]\n",
      " [0 0 0 0 0 0 0 0 0 0 0 0 0 0 0 0 0 1 0 0 0]\n",
      " [0 0 0 0 0 0 0 0 0 0 0 0 0 0 0 0 0 0 1 0 0]\n",
      " [0 0 0 0 0 0 0 0 0 0 0 0 0 0 0 0 0 0 0 1 0]\n",
      " [0 0 0 0 0 0 0 0 0 0 0 0 0 0 0 0 0 0 0 0 1]]\n",
      "[]\n",
      "[1 0 0 0 0 0 1 1 0 1 1 0 0 0 0 0 0 0 0 1 0]\n",
      "[1 1 0 0 0 0 1 0 1 1 0 1 0 0 0 0 0 0 0 0 1]\n",
      "[1 1 1 0 0 0 1 0 0 0 1 0 1 0 0 0 0 0 0 1 0]\n",
      "[0 1 1 1 0 0 0 1 0 0 0 1 0 1 0 0 0 0 0 0 1]\n",
      "[0 0 1 1 1 0 0 0 1 0 1 0 1 0 1 0 0 0 0 1 0]\n",
      "[0 0 0 1 1 1 0 0 0 1 0 1 0 1 0 1 0 0 0 0 1]\n",
      "[1 0 0 0 1 1 0 1 0 1 1 0 1 0 1 0 1 0 0 1 0]\n",
      "[1 1 0 0 0 1 0 1 1 1 0 1 0 1 0 1 0 1 0 0 1]\n",
      "[1 1 1 0 0 0 0 1 1 0 1 0 1 0 1 0 1 0 1 1 0]\n",
      "[0 1 1 1 0 0 0 0 1 1 0 1 0 1 0 1 0 1 0 1 1]\n",
      "[1 0 1 1 1 0 1 1 0 0 1 0 1 0 1 0 1 0 1 1 1]\n",
      "[0 1 0 1 1 1 0 1 1 0 1 1 0 1 0 1 0 1 0 0 1]\n",
      "[0 0 1 0 1 1 1 0 1 1 1 1 1 0 1 0 1 0 1 1 0]\n",
      "[1 0 0 1 0 1 0 0 0 0 0 1 1 1 0 1 0 1 0 1 1]\n",
      "[0 1 0 0 1 0 1 0 0 0 1 0 1 1 1 0 1 0 1 1 1]\n",
      "[0 0 1 0 0 1 0 1 0 0 1 1 0 1 1 1 0 1 0 0 1]\n",
      "[0 0 0 1 0 0 1 0 1 0 1 1 1 0 1 1 1 0 1 1 0]\n",
      "[0 0 0 0 1 0 0 1 0 1 0 1 1 1 0 1 1 1 0 1 1]\n",
      "[1 0 0 0 0 1 1 1 1 1 1 0 1 1 1 0 1 1 1 1 1]\n",
      "[1 1 0 0 0 0 0 0 1 0 1 1 0 1 1 1 0 1 1 0 1]\n",
      "[0 1 1 0 0 0 0 0 0 1 1 1 1 0 1 1 1 0 1 0 0]\n",
      "[1 0 1 1 0 0 1 1 0 1 0 1 1 1 0 1 1 1 0 1 0]\n"
     ]
    }
   ],
   "source": [
    "ln1 = 10\n",
    "ln2 = 11\n",
    "ln3 = 0\n",
    "import numpy as np\n",
    "\n",
    "ln = ln1 + ln2 + ln3\n",
    "key = np.eye(ln, ln).astype(int)\n",
    "key1 = key[:ln1]\n",
    "key2 = key[ln1 : ln1 + ln2]\n",
    "key3 = key[ln1 + ln2 :]\n",
    "print(key1)\n",
    "print(key2)\n",
    "print(key3)\n",
    "\n",
    "x = []\n",
    "for i in range(ln + 1):\n",
    "    # print(key1[0].shape, key1[1].shape)\n",
    "    nxt1 = key1[0] ^ key1[6] ^ key1[7] ^ key1[9]\n",
    "    nxt2 = key2[0] ^ key2[9]\n",
    "    # nxt3 = key3[0] ^ key3[6] ^ key3[8] ^ key3[11]\n",
    "    key1 = np.roll(key1, -1, axis=0)\n",
    "    key2 = np.roll(key2, -1, axis=0)\n",
    "    # key3 = np.roll(key3, -1, axis=0)\n",
    "    key1[-1] = nxt1\n",
    "    key2[-1] = nxt2\n",
    "    # key3[-1] = nxt3\n",
    "    nxt = nxt1 ^ nxt2  # ^ nxt3\n",
    "    print(nxt)\n",
    "    x.append(nxt)"
   ]
  },
  {
   "cell_type": "code",
   "execution_count": 5,
   "metadata": {},
   "outputs": [
    {
     "name": "stdout",
     "output_type": "stream",
     "text": [
      "011010011110111110110\r"
     ]
    },
    {
     "ename": "KeyboardInterrupt",
     "evalue": "",
     "output_type": "error",
     "traceback": [
      "\u001b[0;31m---------------------------------------------------------------------------\u001b[0m",
      "\u001b[0;31mKeyboardInterrupt\u001b[0m                         Traceback (most recent call last)",
      "Cell \u001b[0;32mIn[5], line 12\u001b[0m\n\u001b[1;32m     10\u001b[0m     \u001b[38;5;28;01mif\u001b[39;00m ind[j] \u001b[38;5;241m==\u001b[39m \u001b[38;5;124m\"\u001b[39m\u001b[38;5;124m1\u001b[39m\u001b[38;5;124m\"\u001b[39m:\n\u001b[1;32m     11\u001b[0m         total \u001b[38;5;241m=\u001b[39m total \u001b[38;5;241m^\u001b[39m x[j]\n\u001b[0;32m---> 12\u001b[0m \u001b[38;5;28;01mif\u001b[39;00m \u001b[43mnp\u001b[49m\u001b[38;5;241;43m.\u001b[39;49m\u001b[43marray_equal\u001b[49m\u001b[43m(\u001b[49m\u001b[43mtotal\u001b[49m\u001b[43m,\u001b[49m\u001b[43m \u001b[49m\u001b[43mx\u001b[49m\u001b[43m[\u001b[49m\u001b[43mln\u001b[49m\u001b[43m]\u001b[49m\u001b[43m)\u001b[49m:\n\u001b[1;32m     13\u001b[0m     \u001b[38;5;66;03m# for j in range(10):\u001b[39;00m\n\u001b[1;32m     14\u001b[0m     \u001b[38;5;66;03m#     if ind[j] == \"1\":\u001b[39;00m\n\u001b[1;32m     15\u001b[0m     \u001b[38;5;66;03m#         print(j, end=\" \")\u001b[39;00m\n\u001b[1;32m     16\u001b[0m     \u001b[38;5;28mprint\u001b[39m(ind)\n",
      "File \u001b[0;32m/Library/Frameworks/Python.framework/Versions/3.11/lib/python3.11/site-packages/numpy/core/numeric.py:2439\u001b[0m, in \u001b[0;36marray_equal\u001b[0;34m(a1, a2, equal_nan)\u001b[0m\n\u001b[1;32m   2437\u001b[0m     \u001b[38;5;28;01mreturn\u001b[39;00m \u001b[38;5;28;01mFalse\u001b[39;00m\n\u001b[1;32m   2438\u001b[0m \u001b[38;5;28;01mif\u001b[39;00m \u001b[38;5;129;01mnot\u001b[39;00m equal_nan:\n\u001b[0;32m-> 2439\u001b[0m     \u001b[38;5;28;01mreturn\u001b[39;00m \u001b[38;5;28mbool\u001b[39m(\u001b[43masarray\u001b[49m\u001b[43m(\u001b[49m\u001b[43ma1\u001b[49m\u001b[43m \u001b[49m\u001b[38;5;241;43m==\u001b[39;49m\u001b[43m \u001b[49m\u001b[43ma2\u001b[49m\u001b[43m)\u001b[49m\u001b[38;5;241;43m.\u001b[39;49m\u001b[43mall\u001b[49m\u001b[43m(\u001b[49m\u001b[43m)\u001b[49m)\n\u001b[1;32m   2440\u001b[0m \u001b[38;5;66;03m# Handling NaN values if equal_nan is True\u001b[39;00m\n\u001b[1;32m   2441\u001b[0m a1nan, a2nan \u001b[38;5;241m=\u001b[39m isnan(a1), isnan(a2)\n",
      "File \u001b[0;32m/Library/Frameworks/Python.framework/Versions/3.11/lib/python3.11/site-packages/numpy/core/_methods.py:64\u001b[0m, in \u001b[0;36m_all\u001b[0;34m(a, axis, dtype, out, keepdims, where)\u001b[0m\n\u001b[1;32m     61\u001b[0m \u001b[38;5;28;01mdef\u001b[39;00m \u001b[38;5;21m_all\u001b[39m(a, axis\u001b[38;5;241m=\u001b[39m\u001b[38;5;28;01mNone\u001b[39;00m, dtype\u001b[38;5;241m=\u001b[39m\u001b[38;5;28;01mNone\u001b[39;00m, out\u001b[38;5;241m=\u001b[39m\u001b[38;5;28;01mNone\u001b[39;00m, keepdims\u001b[38;5;241m=\u001b[39m\u001b[38;5;28;01mFalse\u001b[39;00m, \u001b[38;5;241m*\u001b[39m, where\u001b[38;5;241m=\u001b[39m\u001b[38;5;28;01mTrue\u001b[39;00m):\n\u001b[1;32m     62\u001b[0m     \u001b[38;5;66;03m# Parsing keyword arguments is currently fairly slow, so avoid it for now\u001b[39;00m\n\u001b[1;32m     63\u001b[0m     \u001b[38;5;28;01mif\u001b[39;00m where \u001b[38;5;129;01mis\u001b[39;00m \u001b[38;5;28;01mTrue\u001b[39;00m:\n\u001b[0;32m---> 64\u001b[0m         \u001b[38;5;28;01mreturn\u001b[39;00m umr_all(a, axis, dtype, out, keepdims)\n\u001b[1;32m     65\u001b[0m     \u001b[38;5;28;01mreturn\u001b[39;00m umr_all(a, axis, dtype, out, keepdims, where\u001b[38;5;241m=\u001b[39mwhere)\n",
      "\u001b[0;31mKeyboardInterrupt\u001b[0m: "
     ]
    }
   ],
   "source": [
    "ln = ln1 + ln2 + ln3\n",
    "for i in range(2 ** (ln)):\n",
    "    ind = np.binary_repr(i, width=ln)\n",
    "    # if i % 1000 == 0:\n",
    "    #     print(ind, end=\"\\r\")\n",
    "    # print(ind, end=\"\\r\")\n",
    "    # print(ind)\n",
    "    total = np.zeros(ln1 + ln2 + ln3, dtype=int)\n",
    "    for j in range(ln):\n",
    "        if ind[j] == \"1\":\n",
    "            total = total ^ x[j]\n",
    "    if np.array_equal(total, x[ln]):\n",
    "        # for j in range(10):\n",
    "        #     if ind[j] == \"1\":\n",
    "        #         print(j, end=\" \")\n",
    "        print(ind)"
   ]
  },
  {
   "cell_type": "code",
   "execution_count": null,
   "metadata": {},
   "outputs": [],
   "source": []
  }
 ],
 "metadata": {
  "kernelspec": {
   "display_name": "Python 3 (ipykernel)",
   "language": "python",
   "name": "python3"
  },
  "language_info": {
   "codemirror_mode": {
    "name": "ipython",
    "version": 3
   },
   "file_extension": ".py",
   "mimetype": "text/x-python",
   "name": "python",
   "nbconvert_exporter": "python",
   "pygments_lexer": "ipython3",
   "version": "3.11.8"
  }
 },
 "nbformat": 4,
 "nbformat_minor": 4
}
